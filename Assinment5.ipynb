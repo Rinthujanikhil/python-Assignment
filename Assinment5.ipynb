{
 "cells": [
  {
   "cell_type": "markdown",
   "id": "5cd387e2",
   "metadata": {},
   "source": [
    "#### 1]Create database – restaurant, create collection – rescollection. Insert the documents into collections."
   ]
  },
  {
   "cell_type": "code",
   "execution_count": 15,
   "id": "afbabafa",
   "metadata": {},
   "outputs": [
    {
     "name": "stdout",
     "output_type": "stream",
     "text": [
      "MongoClient(host=['localhost:27017'], document_class=dict, tz_aware=False, connect=True)\n"
     ]
    }
   ],
   "source": [
    "from pymongo import MongoClient\n",
    "import pandas as pd\n",
    "import json\n",
    "import numpy as np\n",
    "import matplotlib.pyplot as plt\n",
    "import seaborn as sns\n",
    "\n",
    "\n",
    "if __name__==\"__main__\":\n",
    "\n",
    "    client=MongoClient(\"mongodb://localhost:27017\")\n",
    "    print(client)\n",
    "    #create the first database\n",
    "    db=client['restaurant']\n",
    "    #collection\n",
    "    collection = db['rescollection']\n",
    "    \n",
    "    with open ('restaurants-dataset.json',\"r\",encoding='utf-8')as file:\n",
    "            response = file.read()\n",
    "            response = response.replace('\\n', '')\n",
    "            response = response.replace('}{','},{')\n",
    "            response = \"[\"+response+\"]\"\n",
    "            file_data = json.loads(response)\n",
    "        \n",
    "    if isinstance(file_data,list):\n",
    "        collection.insert_many(file_data)\n",
    "    else:\n",
    "        collection.insert_one(file_data)\n",
    "    "
   ]
  },
  {
   "cell_type": "markdown",
   "id": "ef28c913",
   "metadata": {},
   "source": [
    "#### 2]Display all the documents in the collection restaurants.\n"
   ]
  },
  {
   "cell_type": "code",
   "execution_count": 6,
   "id": "e12bd1a9",
   "metadata": {},
   "outputs": [],
   "source": [
    " db.rescollection.find()"
   ]
  },
  {
   "cell_type": "markdown",
   "id": "588ba141",
   "metadata": {},
   "source": [
    "#### 3]Display the fields restaurant_id, name, borough, and zip code, but exclude the field _id for all the documents in the collection restaurant.\n"
   ]
  },
  {
   "cell_type": "code",
   "execution_count": 7,
   "id": "03263ed0",
   "metadata": {},
   "outputs": [],
   "source": [
    " db.rescollection.find({},{\"restaurant_id\" : 1,\"name\":1,\"borough\":1,\"cuisine\" :1,\"_id\":0});\n",
    "    \n",
    " "
   ]
  },
  {
   "cell_type": "markdown",
   "id": "559bd625",
   "metadata": {},
   "source": [
    "#### 4]Find the restaurants who achieved a score more than 90.\n"
   ]
  },
  {
   "cell_type": "code",
   "execution_count": 8,
   "id": "5dca71a7",
   "metadata": {},
   "outputs": [],
   "source": [
    "\n",
    " db.rescollection.find({\"grades.score\":{$gt:90}},{name:1})"
   ]
  },
  {
   "cell_type": "markdown",
   "id": "7c42c8ba",
   "metadata": {},
   "source": [
    "#### 5]Show the restaurants that achieved a score, more than 80 but less than 100.\n"
   ]
  },
  {
   "cell_type": "code",
   "execution_count": null,
   "id": "890a3aef",
   "metadata": {},
   "outputs": [],
   "source": [
    "db.rescollection.find({\"grades.score\":{$gt:80 , $lte:100}},{name:1})"
   ]
  },
  {
   "cell_type": "markdown",
   "id": "95aa9762",
   "metadata": {},
   "source": [
    "#### 6]Write Query to show the restaurants that do not prepare any cuisine of american & their grade score > 70."
   ]
  },
  {
   "cell_type": "code",
   "execution_count": 4,
   "id": "e95d8f74",
   "metadata": {},
   "outputs": [],
   "source": [
    "db.rescollection.find({$nor:[{cuisine : 'american'},{'grades.score':{$gt:70 }}]},{name:1})"
   ]
  },
  {
   "cell_type": "markdown",
   "id": "d275e961",
   "metadata": {},
   "source": [
    "#### 7]Write a MongoDB query to arrange the name of the cuisine in an ascending order and for that same borough arranged in descending order."
   ]
  },
  {
   "cell_type": "code",
   "execution_count": 3,
   "id": "d13d1a66",
   "metadata": {},
   "outputs": [],
   "source": [
    "db.rescollection.find().sort({cuisine : 1, borough:-1})"
   ]
  },
  {
   "cell_type": "markdown",
   "id": "3bebc3b3",
   "metadata": {},
   "source": [
    "#### 8]Write a MongoDB query to arrange the name of the cuisine in descending order. "
   ]
  },
  {
   "cell_type": "code",
   "execution_count": 2,
   "id": "813bde4e",
   "metadata": {},
   "outputs": [],
   "source": [
    "db.rescollection.find({},{cuisine : 1}).sort({cuisine:-1})"
   ]
  },
  {
   "cell_type": "markdown",
   "id": "9f46c7ed",
   "metadata": {},
   "source": [
    "#### 9] Show the restaurant Id, name, borough and cuisines for those restaurants which prepared dish except 'American' and 'Chinese' or restaurant's name begins with letter 'Bil'."
   ]
  },
  {
   "cell_type": "code",
   "execution_count": null,
   "id": "c15767d0",
   "metadata": {},
   "outputs": [],
   "source": [
    "db.rescollection.find({$or : [{\"name\" :{$regex:/^Bil.*/}},{\"$and\":[{\"cuisine\":{$ne:\"American\"}},{\"cuine\":{$ne:\"chines\"}}]}})"
   ]
  },
  {
   "cell_type": "markdown",
   "id": "82515bff",
   "metadata": {},
   "source": [
    "#### 10]Show the restaurant Id, name, borough and cuisines and score for restaurant's name begins with letter 'Bil"
   ]
  },
  {
   "cell_type": "code",
   "execution_count": null,
   "id": "3411560a",
   "metadata": {},
   "outputs": [],
   "source": [
    "db.rescollection.find({\"name\" :{$regex:/^Bil.*/}},{restaurant_id:1, name: 1, borough:1,'grades.score':1,cuisine:1})"
   ]
  },
  {
   "cell_type": "markdown",
   "id": "31b5f9ac",
   "metadata": {},
   "source": [
    "#### 11]Show the restaurant Id, name, borough and cuisines and score for restaurant serving “Indian” as cuisines."
   ]
  },
  {
   "cell_type": "code",
   "execution_count": null,
   "id": "2e4306a1",
   "metadata": {},
   "outputs": [],
   "source": [
    "db.rescollection.find({cuisine:'India'},{restaurant_id:1, name: 1, borough:1,'grades.score':1,cuisine:1})"
   ]
  },
  {
   "cell_type": "markdown",
   "id": "503eb6d6",
   "metadata": {},
   "source": [
    "#### 12]Write a MongoDB query to find the restaurant Id, name, borough, cuisines, and score for those restaurants which contain 'bi' as last three letters for its name."
   ]
  },
  {
   "cell_type": "code",
   "execution_count": null,
   "id": "a52707b9",
   "metadata": {},
   "outputs": [],
   "source": [
    "db.rescollection.find({\"name\" :{$regex:/.*bi$/}},{restaurant_id:1, name: 1, borough:1,'grades.score':1,cuisine:1})"
   ]
  },
  {
   "cell_type": "markdown",
   "id": "2e5714a7",
   "metadata": {},
   "source": [
    "#### 13]Write a MongoDB query to find the restaurant Id, name, borough, cuisines, and score for those restaurants which contain 'il' as last three letters for its name"
   ]
  },
  {
   "cell_type": "code",
   "execution_count": null,
   "id": "9335ade6",
   "metadata": {},
   "outputs": [],
   "source": [
    " db.rescollection.find({\"name\" :{$regex:/.*il$/}},{restaurant_id:1, name: 1, borough:1,'grades.score':1,cuisine:1})"
   ]
  },
  {
   "cell_type": "markdown",
   "id": "dc37c2dc",
   "metadata": {},
   "source": [
    "#### 14]Write a query to show all the restaurant Id, name, borough, cuisines, and score for those restaurants which contain 'il' anywhere in its name."
   ]
  },
  {
   "cell_type": "code",
   "execution_count": null,
   "id": "ef173adc",
   "metadata": {},
   "outputs": [],
   "source": [
    "db.rescollection.find({\"name\" :{$regex:/.*il.*/}},{restaurant_id:1, name: 1, borough:1,'grades.score':1,cuisine:1})"
   ]
  },
  {
   "cell_type": "markdown",
   "id": "e2ce24f8",
   "metadata": {},
   "source": [
    "#### 15]Write a MongoDB query which will select the restaurant Id, name and grades for those restaurants which returns 0 as a remainder after dividing the score by 7.\n"
   ]
  },
  {
   "cell_type": "code",
   "execution_count": null,
   "id": "bf4407a5",
   "metadata": {},
   "outputs": [],
   "source": [
    "db.rescollection.find({\"grades.score\" :{$mod:[7,0]}},{\"restaurant_id\":1, \"name\": 1,\"grades\":1})"
   ]
  },
  {
   "cell_type": "markdown",
   "id": "aaf36780",
   "metadata": {},
   "source": [
    "#### 16]Show document/record counts that has street and not street in addresses. "
   ]
  },
  {
   "cell_type": "code",
   "execution_count": null,
   "id": "6b536e84",
   "metadata": {},
   "outputs": [],
   "source": [
    " db.rescollection.find({\"address.street\":{$exists:true}})"
   ]
  },
  {
   "cell_type": "markdown",
   "id": "86dff6cf",
   "metadata": {},
   "source": [
    "#### 17]Write a MongoDB query to find the restaurants which do not prepare any cuisine of 'American' and achieved a score more than 70 and located in the longitude less than -65.754168 "
   ]
  },
  {
   "cell_type": "code",
   "execution_count": null,
   "id": "88677c62",
   "metadata": {},
   "outputs": [],
   "source": [
    "db.rescollection.find({\"cuisine\":{$ne:\"American\"},\"grades.score\":{$gt:70},\"address.coord\":{$lt:-65.754168}})"
   ]
  }
 ],
 "metadata": {
  "kernelspec": {
   "display_name": "Python 3 (ipykernel)",
   "language": "python",
   "name": "python3"
  },
  "language_info": {
   "codemirror_mode": {
    "name": "ipython",
    "version": 3
   },
   "file_extension": ".py",
   "mimetype": "text/x-python",
   "name": "python",
   "nbconvert_exporter": "python",
   "pygments_lexer": "ipython3",
   "version": "3.9.12"
  }
 },
 "nbformat": 4,
 "nbformat_minor": 5
}
