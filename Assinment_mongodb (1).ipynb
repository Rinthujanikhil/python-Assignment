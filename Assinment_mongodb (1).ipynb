{
 "cells": [
  {
   "cell_type": "code",
   "execution_count": 2,
   "id": "0bc79c1e",
   "metadata": {},
   "outputs": [
    {
     "name": "stdout",
     "output_type": "stream",
     "text": [
      "MongoClient(host=['localhost:27017'], document_class=dict, tz_aware=False, connect=True)\n"
     ]
    }
   ],
   "source": [
    "from pymongo import MongoClient\n",
    "import pandas as pd\n",
    "import json\n",
    "import numpy as np\n",
    "import matplotlib.pyplot as plt\n",
    "import seaborn as sns\n",
    "\n",
    "def mongoimport(csv_path):\n",
    "    flight_df=pd.read_csv(csv_path)\n",
    "    payload = json.loads(flight_df.to_json(orient = 'records'))\n",
    "    collection.delete_many({})\n",
    "    collection.insert_many(payload)\n",
    "    \n",
    "if __name__==\"__main__\":\n",
    "\n",
    "    client=MongoClient(\"mongodb://localhost:27017\")\n",
    "    print(client)\n",
    "    #create the first database\n",
    "    db=client['airline_delayDB']\n",
    "    #collection\n",
    "    collection = db['flights']\n",
    "    \n",
    "    mongoimport('C:/Users/rinth/Downloads/Flights_Delay.csv')\n",
    "    "
   ]
  },
  {
   "cell_type": "code",
   "execution_count": 3,
   "id": "a20153ce",
   "metadata": {},
   "outputs": [
    {
     "name": "stdout",
     "output_type": "stream",
     "text": [
      "{'avg arrivaldelay': 7.545457931394093}\n"
     ]
    }
   ],
   "source": [
    "avgsarrivaldelay = collection.aggregate([\n",
    "  {'$group' : {'_id' : 'null', \n",
    "               'avg arrivaldelay':{ '$avg' : '$ARRIVAL_DELAY'}}}, \n",
    "              {'$project' : {'_id' : 0}}])\n",
    "  \n",
    "for item in avgsarrivaldelay:\n",
    "  print(item)"
   ]
  },
  {
   "cell_type": "markdown",
   "id": "781bd107",
   "metadata": {},
   "source": [
    "#### Days of months with respect to average of arrival delays. [Create a suitable plot using matplotlib/seaborn]\n"
   ]
  },
  {
   "cell_type": "code",
   "execution_count": 4,
   "id": "53739048",
   "metadata": {},
   "outputs": [
    {
     "data": {
      "text/html": [
       "<div>\n",
       "<style scoped>\n",
       "    .dataframe tbody tr th:only-of-type {\n",
       "        vertical-align: middle;\n",
       "    }\n",
       "\n",
       "    .dataframe tbody tr th {\n",
       "        vertical-align: top;\n",
       "    }\n",
       "\n",
       "    .dataframe thead th {\n",
       "        text-align: right;\n",
       "    }\n",
       "</style>\n",
       "<table border=\"1\" class=\"dataframe\">\n",
       "  <thead>\n",
       "    <tr style=\"text-align: right;\">\n",
       "      <th></th>\n",
       "      <th>_id</th>\n",
       "      <th>avgerage_arrival_delay</th>\n",
       "    </tr>\n",
       "  </thead>\n",
       "  <tbody>\n",
       "    <tr>\n",
       "      <th>0</th>\n",
       "      <td>1</td>\n",
       "      <td>5.860943</td>\n",
       "    </tr>\n",
       "    <tr>\n",
       "      <th>1</th>\n",
       "      <td>3</td>\n",
       "      <td>11.343455</td>\n",
       "    </tr>\n",
       "    <tr>\n",
       "      <th>2</th>\n",
       "      <td>2</td>\n",
       "      <td>8.122952</td>\n",
       "    </tr>\n",
       "  </tbody>\n",
       "</table>\n",
       "</div>"
      ],
      "text/plain": [
       "   _id  avgerage_arrival_delay\n",
       "0    1                5.860943\n",
       "1    3               11.343455\n",
       "2    2                8.122952"
      ]
     },
     "metadata": {},
     "output_type": "display_data"
    },
    {
     "data": {
      "image/png": "[encoded data removed]",
      "text/plain": [
       "<Figure size 432x288 with 1 Axes>"
      ]
     },
     "metadata": {
      "needs_background": "light"
     },
     "output_type": "display_data"
    }
   ],
   "source": [
    "avg_delay1 = collection.aggregate([\n",
    "        {'$group' : {'_id' : '$MONTH', 'avgerage_arrival_delay':{ '$avg' : '$ARRIVAL_DELAY'}}} \n",
    "        ])\n",
    "df=pd.DataFrame(avg_delay1)  \n",
    "display(df)\n",
    "plt.bar(df['_id'], df['avgerage_arrival_delay'],color='purple')\n",
    "plt.xlabel('Month')\n",
    "plt.ylabel('avgerage_arrival_delay')\n",
    "plt.show()"
   ]
  },
  {
   "cell_type": "markdown",
   "id": "29bcccbb",
   "metadata": {},
   "source": [
    "#### Arrange weekdays with respect to the average arrival delays caused. [Create a suitable plot using matplotlib/seaborn]\n"
   ]
  },
  {
   "cell_type": "code",
   "execution_count": 5,
   "id": "d09698b9",
   "metadata": {},
   "outputs": [
    {
     "data": {
      "image/png": "[encoded data removed]",
      "text/plain": [
       "<Figure size 432x288 with 1 Axes>"
      ]
     },
     "metadata": {
      "needs_background": "light"
     },
     "output_type": "display_data"
    }
   ],
   "source": [
    "avg_delay1 = collection.aggregate([\n",
    "        {'$group' : {'_id' : '$DAY_OF_WEEK', 'avgerage_arrival_delay':{ '$avg' : '$ARRIVAL_DELAY'}}} \n",
    "        ])\n",
    "df=pd.DataFrame(avg_delay1) \n",
    "plt.bar(df['_id'], df['avgerage_arrival_delay'],color='purple')\n",
    "plt.title('Weekdays V/S average of arrival delays')\n",
    "plt.xlabel('Day of week')\n",
    "plt.ylabel('Avg Arrival delay')\n",
    "plt.show()"
   ]
  },
  {
   "cell_type": "markdown",
   "id": "9c0a40af",
   "metadata": {},
   "source": [
    "#### E Arrange Days of month as per cancellations done in descending order.  [Create a suitable plot using matplotlib/seaborn]\n"
   ]
  },
  {
   "cell_type": "code",
   "execution_count": 6,
   "id": "ba911823",
   "metadata": {},
   "outputs": [
    {
     "data": {
      "image/png": "[encoded data removed]",
      "text/plain": [
       "<Figure size 432x288 with 1 Axes>"
      ]
     },
     "metadata": {
      "needs_background": "light"
     },
     "output_type": "display_data"
    }
   ],
   "source": [
    "cancelled_day = collection.aggregate([\n",
    "        {'$group' : {'_id' : '$DAY', 'cancelled':{ '$sum' : '$CANCELLED'}}} ,\n",
    "    {'$sort':{'cancelled':-1}}\n",
    "        ])\n",
    "df=pd.DataFrame(cancelled_day) \n",
    "plt.bar(df['_id'], df['cancelled'],color='purple')\n",
    "plt.title('Day vs cancelled')\n",
    "plt.xlabel('Day ')\n",
    "plt.ylabel('cancelled')\n",
    "plt.show()"
   ]
  },
  {
   "cell_type": "markdown",
   "id": "fd523c44",
   "metadata": {},
   "source": [
    "#### f Find the busiest airports with respect to day of week. Create a suitable plot using matplotlib/seaborn"
   ]
  },
  {
   "cell_type": "code",
   "execution_count": 7,
   "id": "7b7099ae",
   "metadata": {},
   "outputs": [
    {
     "data": {
      "text/html": [
       "<div>\n",
       "<style scoped>\n",
       "    .dataframe tbody tr th:only-of-type {\n",
       "        vertical-align: middle;\n",
       "    }\n",
       "\n",
       "    .dataframe tbody tr th {\n",
       "        vertical-align: top;\n",
       "    }\n",
       "\n",
       "    .dataframe thead th {\n",
       "        text-align: right;\n",
       "    }\n",
       "</style>\n",
       "<table border=\"1\" class=\"dataframe\">\n",
       "  <thead>\n",
       "    <tr style=\"text-align: right;\">\n",
       "      <th></th>\n",
       "      <th>_id</th>\n",
       "      <th>busiest_airport</th>\n",
       "    </tr>\n",
       "  </thead>\n",
       "  <tbody>\n",
       "    <tr>\n",
       "      <th>0</th>\n",
       "      <td>7</td>\n",
       "      <td>YUM</td>\n",
       "    </tr>\n",
       "    <tr>\n",
       "      <th>1</th>\n",
       "      <td>2</td>\n",
       "      <td>YUM</td>\n",
       "    </tr>\n",
       "    <tr>\n",
       "      <th>2</th>\n",
       "      <td>1</td>\n",
       "      <td>YUM</td>\n",
       "    </tr>\n",
       "    <tr>\n",
       "      <th>3</th>\n",
       "      <td>3</td>\n",
       "      <td>YUM</td>\n",
       "    </tr>\n",
       "    <tr>\n",
       "      <th>4</th>\n",
       "      <td>4</td>\n",
       "      <td>YUM</td>\n",
       "    </tr>\n",
       "    <tr>\n",
       "      <th>5</th>\n",
       "      <td>6</td>\n",
       "      <td>YUM</td>\n",
       "    </tr>\n",
       "    <tr>\n",
       "      <th>6</th>\n",
       "      <td>5</td>\n",
       "      <td>YUM</td>\n",
       "    </tr>\n",
       "  </tbody>\n",
       "</table>\n",
       "</div>"
      ],
      "text/plain": [
       "   _id busiest_airport\n",
       "0    7             YUM\n",
       "1    2             YUM\n",
       "2    1             YUM\n",
       "3    3             YUM\n",
       "4    4             YUM\n",
       "5    6             YUM\n",
       "6    5             YUM"
      ]
     },
     "metadata": {},
     "output_type": "display_data"
    },
    {
     "data": {
      "image/png": "[encoded data removed]",
      "text/plain": [
       "<Figure size 432x288 with 1 Axes>"
      ]
     },
     "metadata": {
      "needs_background": "light"
     },
     "output_type": "display_data"
    }
   ],
   "source": [
    "busiest_airport = collection.aggregate([\n",
    "        {'$group' : {'_id' : '$DAY_OF_WEEK', 'busiest_airport':{ '$max' : '$ORIGIN_AIRPORT'}}} \n",
    "        ])\n",
    "df=pd.DataFrame(busiest_airport) \n",
    "display(df)\n",
    "plt.bar(df['_id'], df['busiest_airport'],color='purple')\n",
    "plt.title('DAY_OF_WEEK V/S busiest_airport')\n",
    "plt.xlabel('Day of week')\n",
    "plt.ylabel('busiest_airport')\n",
    "plt.show()"
   ]
  },
  {
   "cell_type": "markdown",
   "id": "a8b2d271",
   "metadata": {},
   "source": [
    "####  G Find top 10 Airlines of US. Create a suitable plot using matplotlib/seaborn."
   ]
  },
  {
   "cell_type": "code",
   "execution_count": 8,
   "id": "c9388f89",
   "metadata": {},
   "outputs": [
    {
     "data": {
      "text/html": [
       "<div>\n",
       "<style scoped>\n",
       "    .dataframe tbody tr th:only-of-type {\n",
       "        vertical-align: middle;\n",
       "    }\n",
       "\n",
       "    .dataframe tbody tr th {\n",
       "        vertical-align: top;\n",
       "    }\n",
       "\n",
       "    .dataframe thead th {\n",
       "        text-align: right;\n",
       "    }\n",
       "</style>\n",
       "<table border=\"1\" class=\"dataframe\">\n",
       "  <thead>\n",
       "    <tr style=\"text-align: right;\">\n",
       "      <th></th>\n",
       "      <th>_id</th>\n",
       "      <th>count</th>\n",
       "    </tr>\n",
       "  </thead>\n",
       "  <tbody>\n",
       "    <tr>\n",
       "      <th>0</th>\n",
       "      <td>WN</td>\n",
       "      <td>11738</td>\n",
       "    </tr>\n",
       "    <tr>\n",
       "      <th>1</th>\n",
       "      <td>DL</td>\n",
       "      <td>7989</td>\n",
       "    </tr>\n",
       "    <tr>\n",
       "      <th>2</th>\n",
       "      <td>EV</td>\n",
       "      <td>5916</td>\n",
       "    </tr>\n",
       "    <tr>\n",
       "      <th>3</th>\n",
       "      <td>OO</td>\n",
       "      <td>5708</td>\n",
       "    </tr>\n",
       "    <tr>\n",
       "      <th>4</th>\n",
       "      <td>AA</td>\n",
       "      <td>5250</td>\n",
       "    </tr>\n",
       "    <tr>\n",
       "      <th>5</th>\n",
       "      <td>UA</td>\n",
       "      <td>4701</td>\n",
       "    </tr>\n",
       "    <tr>\n",
       "      <th>6</th>\n",
       "      <td>US</td>\n",
       "      <td>3925</td>\n",
       "    </tr>\n",
       "    <tr>\n",
       "      <th>7</th>\n",
       "      <td>MQ</td>\n",
       "      <td>3502</td>\n",
       "    </tr>\n",
       "    <tr>\n",
       "      <th>8</th>\n",
       "      <td>B6</td>\n",
       "      <td>2548</td>\n",
       "    </tr>\n",
       "    <tr>\n",
       "      <th>9</th>\n",
       "      <td>AS</td>\n",
       "      <td>1586</td>\n",
       "    </tr>\n",
       "  </tbody>\n",
       "</table>\n",
       "</div>"
      ],
      "text/plain": [
       "  _id  count\n",
       "0  WN  11738\n",
       "1  DL   7989\n",
       "2  EV   5916\n",
       "3  OO   5708\n",
       "4  AA   5250\n",
       "5  UA   4701\n",
       "6  US   3925\n",
       "7  MQ   3502\n",
       "8  B6   2548\n",
       "9  AS   1586"
      ]
     },
     "metadata": {},
     "output_type": "display_data"
    },
    {
     "data": {
      "image/png": "[encoded data removed]",
      "text/plain": [
       "<Figure size 720x504 with 1 Axes>"
      ]
     },
     "metadata": {},
     "output_type": "display_data"
    }
   ],
   "source": [
    "allDocuments=collection.aggregate([\n",
    "        {'$group':{'_id':'$AIRLINE','count':{'$count':{}}}},\n",
    "        { '$sort' : { 'count' : -1 }},{'$limit':10}])\n",
    "df=pd.DataFrame(allDocuments) \n",
    "display(df)\n",
    "plt.style.use('seaborn-whitegrid')\n",
    "plt.figure(figsize=(10,7))\n",
    "sns.barplot(x=df['_id'],y=df['count'])\n",
    "\n",
    "plt.title('Top 10 Airlines of US')\n",
    "\n",
    "plt.show()\n"
   ]
  },
  {
   "cell_type": "markdown",
   "id": "d7bb727d",
   "metadata": {},
   "source": [
    "#### H Finding airlines that make the maximum, minimum number of cancellations.\n"
   ]
  },
  {
   "cell_type": "code",
   "execution_count": 9,
   "id": "21b385ad",
   "metadata": {},
   "outputs": [
    {
     "name": "stdout",
     "output_type": "stream",
     "text": [
      "{'max Cancelled': 1, 'min cancelled': 0}\n"
     ]
    }
   ],
   "source": [
    "min_maxcancelled = collection.aggregate([\n",
    "    {'$group' : {'_id' : 'null', \n",
    "                 'max Cancelled':{ '$max' : '$CANCELLED'}, \n",
    "                 'min cancelled' : {'$min':'$CANCELLED'}}}, \n",
    "                {'$project' : {'_id' : 0}}])\n",
    "for item in min_maxcancelled:\n",
    "    print(item)"
   ]
  },
  {
   "cell_type": "markdown",
   "id": "e594ca7f",
   "metadata": {},
   "source": [
    "#### I Find and show airlines names in descending that make the most number of diversions made. [Create a suitable plot using matplotlib/seaborn]\n"
   ]
  },
  {
   "cell_type": "code",
   "execution_count": 10,
   "id": "e17eead1",
   "metadata": {},
   "outputs": [
    {
     "data": {
      "text/html": [
       "<div>\n",
       "<style scoped>\n",
       "    .dataframe tbody tr th:only-of-type {\n",
       "        vertical-align: middle;\n",
       "    }\n",
       "\n",
       "    .dataframe tbody tr th {\n",
       "        vertical-align: top;\n",
       "    }\n",
       "\n",
       "    .dataframe thead th {\n",
       "        text-align: right;\n",
       "    }\n",
       "</style>\n",
       "<table border=\"1\" class=\"dataframe\">\n",
       "  <thead>\n",
       "    <tr style=\"text-align: right;\">\n",
       "      <th></th>\n",
       "      <th>_id</th>\n",
       "      <th>total_counts</th>\n",
       "    </tr>\n",
       "  </thead>\n",
       "  <tbody>\n",
       "    <tr>\n",
       "      <th>0</th>\n",
       "      <td>WN</td>\n",
       "      <td>35</td>\n",
       "    </tr>\n",
       "    <tr>\n",
       "      <th>1</th>\n",
       "      <td>OO</td>\n",
       "      <td>25</td>\n",
       "    </tr>\n",
       "    <tr>\n",
       "      <th>2</th>\n",
       "      <td>EV</td>\n",
       "      <td>22</td>\n",
       "    </tr>\n",
       "    <tr>\n",
       "      <th>3</th>\n",
       "      <td>DL</td>\n",
       "      <td>18</td>\n",
       "    </tr>\n",
       "    <tr>\n",
       "      <th>4</th>\n",
       "      <td>B6</td>\n",
       "      <td>16</td>\n",
       "    </tr>\n",
       "    <tr>\n",
       "      <th>5</th>\n",
       "      <td>AA</td>\n",
       "      <td>12</td>\n",
       "    </tr>\n",
       "    <tr>\n",
       "      <th>6</th>\n",
       "      <td>US</td>\n",
       "      <td>9</td>\n",
       "    </tr>\n",
       "    <tr>\n",
       "      <th>7</th>\n",
       "      <td>UA</td>\n",
       "      <td>8</td>\n",
       "    </tr>\n",
       "    <tr>\n",
       "      <th>8</th>\n",
       "      <td>MQ</td>\n",
       "      <td>5</td>\n",
       "    </tr>\n",
       "    <tr>\n",
       "      <th>9</th>\n",
       "      <td>HA</td>\n",
       "      <td>1</td>\n",
       "    </tr>\n",
       "  </tbody>\n",
       "</table>\n",
       "</div>"
      ],
      "text/plain": [
       "  _id  total_counts\n",
       "0  WN            35\n",
       "1  OO            25\n",
       "2  EV            22\n",
       "3  DL            18\n",
       "4  B6            16\n",
       "5  AA            12\n",
       "6  US             9\n",
       "7  UA             8\n",
       "8  MQ             5\n",
       "9  HA             1"
      ]
     },
     "metadata": {},
     "output_type": "display_data"
    },
    {
     "data": {
      "image/png": "[encoded data removed]",
      "text/plain": [
       "<Figure size 720x504 with 1 Axes>"
      ]
     },
     "metadata": {},
     "output_type": "display_data"
    }
   ],
   "source": [
    "allDocuments=collection.aggregate([  \n",
    "                                {'$match':{'DIVERTED':1}},\n",
    "                                {'$group': {'_id':'$AIRLINE','total_counts': { '$count':{}}}},\n",
    "                                {'$sort':{'total_counts':-1}} ])\n",
    "df=pd.DataFrame(allDocuments) \n",
    "display(df)\n",
    "plt.style.use('seaborn-whitegrid')\n",
    "plt.figure(figsize=(10,7))\n",
    "sns.barplot(x=df['_id'],y=df['total_counts'])\n",
    "\n",
    "plt.title('Top 10 Airlines of US')\n",
    "\n",
    "plt.show()\n"
   ]
  },
  {
   "cell_type": "markdown",
   "id": "ee91b162",
   "metadata": {},
   "source": [
    "#### j Finding days of month that see the most number of diversion\n"
   ]
  },
  {
   "cell_type": "code",
   "execution_count": 11,
   "id": "31d613f8",
   "metadata": {},
   "outputs": [
    {
     "data": {
      "text/html": [
       "<div>\n",
       "<style scoped>\n",
       "    .dataframe tbody tr th:only-of-type {\n",
       "        vertical-align: middle;\n",
       "    }\n",
       "\n",
       "    .dataframe tbody tr th {\n",
       "        vertical-align: top;\n",
       "    }\n",
       "\n",
       "    .dataframe thead th {\n",
       "        text-align: right;\n",
       "    }\n",
       "</style>\n",
       "<table border=\"1\" class=\"dataframe\">\n",
       "  <thead>\n",
       "    <tr style=\"text-align: right;\">\n",
       "      <th></th>\n",
       "      <th>_id</th>\n",
       "      <th>Divition</th>\n",
       "    </tr>\n",
       "  </thead>\n",
       "  <tbody>\n",
       "    <tr>\n",
       "      <th>0</th>\n",
       "      <td>2</td>\n",
       "      <td>60</td>\n",
       "    </tr>\n",
       "  </tbody>\n",
       "</table>\n",
       "</div>"
      ],
      "text/plain": [
       "   _id  Divition\n",
       "0    2        60"
      ]
     },
     "metadata": {},
     "output_type": "display_data"
    }
   ],
   "source": [
    "allDocuments=collection.aggregate([  \n",
    "                                {'$group': {'_id':'$MONTH','Divition': { '$sum':'$DIVERTED'}}},\n",
    "                                {'$sort':{'Divition':-1}},{'$limit':1} ])\n",
    "df=pd.DataFrame(allDocuments) \n",
    "display(df)"
   ]
  },
  {
   "cell_type": "markdown",
   "id": "bbc6693e",
   "metadata": {},
   "source": [
    "#### k Calculating mean and standard deviation of departure delay for all flights in minutes\n"
   ]
  },
  {
   "cell_type": "code",
   "execution_count": 12,
   "id": "0ac20ab5",
   "metadata": {},
   "outputs": [
    {
     "name": "stdout",
     "output_type": "stream",
     "text": [
      "Mean =  DEPARTURE_DELAY    11.329091\n",
      "dtype: float64\n",
      "StandardDeviation =  DEPARTURE_DELAY    39.620916\n",
      "dtype: float64\n"
     ]
    }
   ],
   "source": [
    "departure_delay = collection.find({},{'DEPARTURE_DELAY':1,'_id':0})   \n",
    "departure_delay_df=pd.DataFrame(departure_delay)\n",
    "print(\"Mean = \" ,departure_delay_df.mean())\n",
    "print(\"StandardDeviation = \", departure_delay_df.std())"
   ]
  },
  {
   "cell_type": "markdown",
   "id": "5fab220c",
   "metadata": {},
   "source": [
    "#### l Calculating mean and standard deviation of arrival delay for all flights in minutes\n"
   ]
  },
  {
   "cell_type": "code",
   "execution_count": 13,
   "id": "356515dc",
   "metadata": {},
   "outputs": [
    {
     "name": "stdout",
     "output_type": "stream",
     "text": [
      "Mean =  ARRIVAL_DELAY    7.545458\n",
      "dtype: float64\n",
      "StandardDeviation =  ARRIVAL_DELAY    42.378386\n",
      "dtype: float64\n"
     ]
    }
   ],
   "source": [
    "arrival_delay = collection.find({},{'ARRIVAL_DELAY':1,'_id':0})\n",
    "arrival_delay_df=pd.DataFrame(arrival_delay)\n",
    "print(\"Mean = \", arrival_delay_df.mean())\n",
    "print(\"StandardDeviation = \",arrival_delay_df.std() )"
   ]
  },
  {
   "cell_type": "markdown",
   "id": "cba2664c",
   "metadata": {},
   "source": [
    "#### M Create a partitioning table “flights_partition” using partitioned by schema “CANCELLED”\n"
   ]
  },
  {
   "cell_type": "markdown",
   "id": "8a8a3246",
   "metadata": {},
   "source": [
    "#### N Finding all diverted Route from a source to destination Airport & which route is the most diverted route."
   ]
  },
  {
   "cell_type": "code",
   "execution_count": 17,
   "id": "d15e46f9",
   "metadata": {},
   "outputs": [
    {
     "name": "stdout",
     "output_type": "stream",
     "text": [
      "Diverted Route from a source to destination Airport \n",
      " 0      {'ORIGIN_AIRPORT': 'IAH', 'DESTINATION_AIRPORT...\n",
      "1      {'ORIGIN_AIRPORT': 'HOU', 'DESTINATION_AIRPORT...\n",
      "2      {'ORIGIN_AIRPORT': 'ORD', 'DESTINATION_AIRPORT...\n",
      "3      {'ORIGIN_AIRPORT': 'JFK', 'DESTINATION_AIRPORT...\n",
      "4      {'ORIGIN_AIRPORT': 'JFK', 'DESTINATION_AIRPORT...\n",
      "                             ...                        \n",
      "137    {'ORIGIN_AIRPORT': 'ATL', 'DESTINATION_AIRPORT...\n",
      "138    {'ORIGIN_AIRPORT': 'SFO', 'DESTINATION_AIRPORT...\n",
      "139    {'ORIGIN_AIRPORT': 'HNL', 'DESTINATION_AIRPORT...\n",
      "140    {'ORIGIN_AIRPORT': 'PHL', 'DESTINATION_AIRPORT...\n",
      "141    {'ORIGIN_AIRPORT': 'BOS', 'DESTINATION_AIRPORT...\n",
      "Name: _id, Length: 142, dtype: object\n",
      "\n",
      "\n",
      "\n",
      " Diverted Route from a source to destination Airport \n",
      " 0    {'ORIGIN_AIRPORT': 'IAH', 'DESTINATION_AIRPORT...\n",
      "1    {'ORIGIN_AIRPORT': 'HOU', 'DESTINATION_AIRPORT...\n",
      "2    {'ORIGIN_AIRPORT': 'ORD', 'DESTINATION_AIRPORT...\n",
      "3    {'ORIGIN_AIRPORT': 'JFK', 'DESTINATION_AIRPORT...\n",
      "4    {'ORIGIN_AIRPORT': 'JFK', 'DESTINATION_AIRPORT...\n",
      "5    {'ORIGIN_AIRPORT': 'STT', 'DESTINATION_AIRPORT...\n",
      "6    {'ORIGIN_AIRPORT': 'TPA', 'DESTINATION_AIRPORT...\n",
      "7    {'ORIGIN_AIRPORT': 'PHL', 'DESTINATION_AIRPORT...\n",
      "8    {'ORIGIN_AIRPORT': 'CLT', 'DESTINATION_AIRPORT...\n",
      "Name: _id, dtype: object\n"
     ]
    }
   ],
   "source": [
    "divertedroute=collection.aggregate([{'$match':{'DIVERTED':1}},\n",
    "                                         {'$group' :{'_id' : {'ORIGIN_AIRPORT':'$ORIGIN_AIRPORT',\"DESTINATION_AIRPORT\":'$DESTINATION_AIRPORT'}, 'count':{'$sum':1}}},\n",
    "                                         {'$sort':{'count':-1}}\n",
    "                                         ])\n",
    "df=pd.DataFrame(divertedroute)\n",
    "print(\"Diverted Route from a source to destination Airport \\n\",df['_id'])\n",
    "diverted_max=df.get('count').max()\n",
    "print(\"\\n\\n\")\n",
    "    \n",
    "print(\" Diverted Route from a source to destination Airport \\n\",df[df['count']==diverted_max]['_id'])"
   ]
  },
  {
   "cell_type": "code",
   "execution_count": null,
   "id": "9288f55c",
   "metadata": {},
   "outputs": [],
   "source": []
  },
  {
   "cell_type": "code",
   "execution_count": null,
   "id": "63f7fdac",
   "metadata": {},
   "outputs": [],
   "source": []
  }
 ],
 "metadata": {
  "kernelspec": {
   "display_name": "Python 3 (ipykernel)",
   "language": "python",
   "name": "python3"
  },
  "language_info": {
   "codemirror_mode": {
    "name": "ipython",
    "version": 3
   },
   "file_extension": ".py",
   "mimetype": "text/x-python",
   "name": "python",
   "nbconvert_exporter": "python",
   "pygments_lexer": "ipython3",
   "version": "3.9.12"
  }
 },
 "nbformat": 4,
 "nbformat_minor": 5
}
